{
 "cells": [
  {
   "cell_type": "markdown",
   "metadata": {},
   "source": [
    "# Performance Optimization with Layer0"
   ]
  },
  {
   "cell_type": "markdown",
   "metadata": {},
   "source": [
    "Layer0 extends the capabilities of a traditional CDN by not only hosting your static content, but also providing server-side rendering for progressive web applications. Layer0 allows caching both your APIs and HTML at the network edge to provide your users with the fastest browsing experience. Teams can ship faster leveraging an enhanced developer experience to deploy code faster and with more frequency, view their code quickly in atomically deployed environments, and integrating their CDN configuration to the overall build process. Layer0 provides the tools needed to build the modern apps capable of providing the performance expected by modern consumers. "
   ]
  },
  {
   "cell_type": "markdown",
   "metadata": {},
   "source": [
    "## Create Layer0 Account\n",
    "\n",
    "To work with AWS Retail Demo Store you need to sign up on Layer0: https://app.layer0.co/signup\n",
    "\n",
    "Accounts on Layer0 are free and come with a generous community tier for testing and getting your project off the ground.\n"
   ]
  },
  {
   "cell_type": "markdown",
   "metadata": {},
   "source": [
    "## Running Layer0 in Dev\n",
    "\n",
    "Instructions to setup and run Layer0 locally are available in the `web-ui` folder. Make sure you configure your `.env` file to properly handle local development by enabling upstream endpoints to be `localhost` and activate the ports required for the local Docker processes. Run Layer0 locally to test the edge config before deploying. \n",
    "\n",
    "## Deploying to Layer0\n",
    "\n",
    "We will only be deploying the `web-ui` (`Vue`) app to Layer0. To do this, run `npm run layer0:app:build:deploy` in order to build the `Vue` app, the `Layer0` configs, and then deploy them into your Layer0 account. It is important that your `layer0.config.js` is setup to use environments variables that are pointed to the ELB domains provided by AWS for the Retail Storefront application. Ensure that your ELB's are configured to allow HTTPS connections as Layer0 will only use HTTPS on upstream. Refer to AWS for how to configure accessibility on HTTPS. If you do not have a domain configured with an SSL cert, make sure to disable certificate verification in the `layer0.config.js` file. \n",
    "\n",
    "To automate deployments, please review Setting up your Deploy Token. \n",
    "\n",
    "## Going further\n",
    "\n",
    "Among the benefits offered by Layer0, a few offered are: \n",
    "\n",
    "- Prefetching and Deep-fetching\n",
    "- Prerendering\n",
    "- Service working caching\n",
    "\n",
    "Please refer to the [Layer0 docs](https://docs.layer0.co) to better understand the possibilities available when working with Layer0. \n"
   ]
  },
  {
   "cell_type": "markdown",
   "metadata": {},
   "source": [
    "## Setting up your Deploy Token\n",
    "\n",
    "Then, after creating your project, grab the deploy token following the guide: https://docs.layer0.co/guides/deploying#section_deploying_from_ci. You can add the token into SSM following the below instructions.\n",
    "\n",
    "Let's get your Layer0 deploy token from SSM. If you did not set this up during your deployment of Retail Demo Store, skip to the next cell."
   ]
  },
  {
   "cell_type": "code",
   "execution_count": null,
   "metadata": {},
   "outputs": [],
   "source": [
    "import boto3\n",
    "\n",
    "ssm = boto3.client('ssm')\n",
    "\n",
    "response = ssm.get_parameter(\n",
    "    Name='retaildemostore-layer0-deploy-token'\n",
    ")\n",
    "\n",
    "layer0_deploy_token = response['Parameter']['Value']\n",
    "\n",
    "print(layer0_deploy_token)"
   ]
  },
  {
   "cell_type": "markdown",
   "metadata": {},
   "source": [
    "If the cell above returned a valid Layer0 token, you already added it.\n",
    "\n",
    "If you did not get a valid token, it is likely you did not configure it in your deployment of Retail Demo Store. You will need to set your Layer0 deploy token in the layer0_deploy_token variable and then run the following cell to set the SSM key for Layer0.\n",
    "\n",
    "You will then need to re-deploy the web ui for the Retail Demo Store."
   ]
  },
  {
   "cell_type": "code",
   "execution_count": null,
   "metadata": {},
   "outputs": [],
   "source": [
    "# To set the Layer0 deploy token, run this cell.  \n",
    "\n",
    "# THIS IS ONLY REQUIRED IF YOU DID NOT SET THE LAYER0 DEPLOY TOKEN IN YOUR ORIGINAL DEPLOYMENT\n",
    "\n",
    "import boto3\n",
    "\n",
    "layer0_deploy_token = ''\n",
    "\n",
    "ssm = boto3.client('ssm')\n",
    "\n",
    "if layer0_deploy_token:\n",
    "    response = ssm.put_parameter(\n",
    "        Name='retaildemostore-layer0-deploy-token',\n",
    "        Value='{}'.format(layer0_deploy_token),\n",
    "        Type='String',\n",
    "        Overwrite=True\n",
    "    )\n",
    "\n",
    "print(layer0_deploy_token)"
   ]
  }
 ],
 "metadata": {
  "language_info": {
   "codemirror_mode": {
    "name": "ipython",
    "version": 3
   },
   "file_extension": ".py",
   "mimetype": "text/x-python",
   "name": "python",
   "nbconvert_exporter": "python",
   "pygments_lexer": "ipython3",
   "version": 3
  },
  "orig_nbformat": 2
 },
 "nbformat": 4,
 "nbformat_minor": 2
}
