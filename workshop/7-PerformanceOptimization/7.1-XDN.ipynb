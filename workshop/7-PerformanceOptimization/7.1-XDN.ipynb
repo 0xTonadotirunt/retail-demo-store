{
 "metadata": {
  "language_info": {
   "codemirror_mode": {
    "name": "ipython",
    "version": 3
   },
   "file_extension": ".py",
   "mimetype": "text/x-python",
   "name": "python",
   "nbconvert_exporter": "python",
   "pygments_lexer": "ipython3",
   "version": 3
  },
  "orig_nbformat": 2
 },
 "nbformat": 4,
 "nbformat_minor": 2,
 "cells": [
  {
   "source": [
    "# Performance Optimization with Layer0"
   ],
   "cell_type": "markdown",
   "metadata": {}
  },
  {
   "source": [
    "Layer0 extends the capabilities of a traditional CDN by not only hosting your static content, but also providing server-side rendering for progressive web applications as well as caching both your APIs and HTML at the network edge to provide your users with the fastest browsing experience."
   ],
   "cell_type": "markdown",
   "metadata": {}
  },
  {
   "source": [
    "To work with AWS Retail Demo Store you need to sign up on Layer0: https://app.layer0.co/signup\n",
    "\n",
    "Then, after creating your project, grab the deploy token following the guide: https://docs.layer0.co/guides/deploying#section_deploying_from_ci. Finally, you can add it into SSM whether set it up here below."
   ],
   "cell_type": "markdown",
   "metadata": {}
  },
  {
   "source": [
    "Let's get your XDN deploy token from SSM. If you did not set this up during your deployment of Retail Demo Store, skip to the next cell."
   ],
   "cell_type": "markdown",
   "metadata": {}
  },
  {
   "source": [
    "import boto3\n",
    "\n",
    "ssm = boto3.client('ssm')\n",
    "\n",
    "response = ssm.get_parameter(\n",
    "    Name='retaildemostore-xdn-deploy-token'\n",
    ")\n",
    "\n",
    "xdn_deploy_token = response['Parameter']['Value']\n",
    "\n",
    "print(xdn_deploy_token)"
   ],
   "cell_type": "code",
   "metadata": {},
   "execution_count": null,
   "outputs": []
  },
  {
   "source": [
    "If the cell above returned a valid XDN token, you already added it.\n",
    "\n",
    "If you did not get a valid token, it is likely you did not configure it in your deployment of Retail Demo Store. You will need to set your XDN deploy token in the xdn_deploy_token variable and then run the following cell to set the SSM key for XDN.\n",
    "\n",
    "You will then need to re-deploy the web ui for the Retail Demo Store."
   ],
   "cell_type": "markdown",
   "metadata": {}
  },
  {
   "cell_type": "code",
   "execution_count": null,
   "metadata": {},
   "outputs": [],
   "source": [
    "# To set the XDN deploy token, run this cell.  \n",
    "\n",
    "# THIS IS ONLY REQUIRED IF YOU DID NOT SET THE XDN DEPLOY TOKEN IN YOUR ORIGINAL DEPLOYMENT\n",
    "\n",
    "import boto3\n",
    "\n",
    "xdn_deploy_token = ''\n",
    "\n",
    "ssm = boto3.client('ssm')\n",
    "\n",
    "if xdn_deploy_token:\n",
    "    response = ssm.put_parameter(\n",
    "        Name='retaildemostore-xdn-deploy-token',\n",
    "        Value='{}'.format(xdn_deploy_token),\n",
    "        Type='String',\n",
    "        Overwrite=True\n",
    "    )\n",
    "\n",
    "print(xdn_deploy_token)"
   ]
  }
 ]
}